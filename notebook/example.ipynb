{
 "cells": [
  {
   "cell_type": "code",
   "execution_count": 1,
   "metadata": {},
   "outputs": [],
   "source": [
    "from housing.constant import *"
   ]
  },
  {
   "cell_type": "code",
   "execution_count": 2,
   "metadata": {},
   "outputs": [
    {
     "data": {
      "text/plain": [
       "'c:\\\\Users\\\\91973\\\\Downloads\\\\ML_Projects\\\\Machine-Learning-Project'"
      ]
     },
     "execution_count": 2,
     "metadata": {},
     "output_type": "execute_result"
    }
   ],
   "source": [
    "ROOT_DIR"
   ]
  },
  {
   "cell_type": "code",
   "execution_count": 3,
   "metadata": {},
   "outputs": [
    {
     "data": {
      "text/plain": [
       "'c:\\\\Users\\\\91973\\\\Downloads\\\\ML_Projects\\\\Machine-Learning-Project\\\\config\\\\config.yaml'"
      ]
     },
     "execution_count": 3,
     "metadata": {},
     "output_type": "execute_result"
    }
   ],
   "source": [
    "\n",
    "CONFIG_FILE_PATH"
   ]
  },
  {
   "cell_type": "code",
   "execution_count": 4,
   "metadata": {},
   "outputs": [
    {
     "data": {
      "text/plain": [
       "'c:\\\\Users\\\\91973\\\\Downloads\\\\ML_Projects\\\\Machine-Learning-Project\\\\notebook'"
      ]
     },
     "execution_count": 4,
     "metadata": {},
     "output_type": "execute_result"
    }
   ],
   "source": [
    "os.getcwd()"
   ]
  },
  {
   "cell_type": "code",
   "execution_count": 5,
   "metadata": {},
   "outputs": [],
   "source": [
    "from housing.config.configuration import Configuration"
   ]
  },
  {
   "cell_type": "code",
   "execution_count": 6,
   "metadata": {},
   "outputs": [],
   "source": [
    "config = Configuration()"
   ]
  },
  {
   "cell_type": "code",
   "execution_count": 7,
   "metadata": {},
   "outputs": [
    {
     "data": {
      "text/plain": [
       "TrainingPipelineConfig(artifact_dir='c:\\\\Users\\\\91973\\\\Downloads\\\\ML_Projects\\\\Machine-Learning-Project\\\\housing\\\\artifact')"
      ]
     },
     "execution_count": 7,
     "metadata": {},
     "output_type": "execute_result"
    }
   ],
   "source": [
    "config.get_training_pipline_config()"
   ]
  },
  {
   "cell_type": "code",
   "execution_count": 8,
   "metadata": {},
   "outputs": [
    {
     "data": {
      "text/plain": [
       "DataIngestionConfig(dataset_download_url='https://raw.githubusercontent.com/ageron/handson-ml/master/datasets/housing/housing.tgz', tgz_download_dir='c:\\\\Users\\\\91973\\\\Downloads\\\\ML_Projects\\\\Machine-Learning-Project\\\\housing\\\\artifact\\\\data_ingestion\\\\2023-02-05-20-41-43\\\\tgz_data', raw_data_dir='c:\\\\Users\\\\91973\\\\Downloads\\\\ML_Projects\\\\Machine-Learning-Project\\\\housing\\\\artifact\\\\data_ingestion\\\\2023-02-05-20-41-43\\\\raw_data', ingested_train_dir='c:\\\\Users\\\\91973\\\\Downloads\\\\ML_Projects\\\\Machine-Learning-Project\\\\housing\\\\artifact\\\\data_ingestion\\\\2023-02-05-20-41-43\\\\ingested_data\\\\train', ingested_test_dir='c:\\\\Users\\\\91973\\\\Downloads\\\\ML_Projects\\\\Machine-Learning-Project\\\\housing\\\\artifact\\\\data_ingestion\\\\2023-02-05-20-41-43\\\\ingested_data\\\\test')"
      ]
     },
     "execution_count": 8,
     "metadata": {},
     "output_type": "execute_result"
    }
   ],
   "source": [
    "config.get_data_ingestion_config()"
   ]
  },
  {
   "cell_type": "code",
   "execution_count": null,
   "metadata": {},
   "outputs": [],
   "source": []
  }
 ],
 "metadata": {
  "kernelspec": {
   "display_name": "Python 3",
   "language": "python",
   "name": "python3"
  },
  "language_info": {
   "codemirror_mode": {
    "name": "ipython",
    "version": 3
   },
   "file_extension": ".py",
   "mimetype": "text/x-python",
   "name": "python",
   "nbconvert_exporter": "python",
   "pygments_lexer": "ipython3",
   "version": "3.7.0"
  },
  "orig_nbformat": 4,
  "vscode": {
   "interpreter": {
    "hash": "513872690dce9169e4001d69cdd0324925cc3f0a60cdd6e717e8109348df61ee"
   }
  }
 },
 "nbformat": 4,
 "nbformat_minor": 2
}
